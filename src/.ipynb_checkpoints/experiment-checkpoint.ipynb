{
 "cells": [
  {
   "cell_type": "code",
   "execution_count": 1,
   "metadata": {},
   "outputs": [],
   "source": [
    "\n",
    "        # ent_path = '%s_step%d.ent' % (self.args.result_path, step)\n",
    "        # self.ent_file = codecs.open(ent_path, 'w', 'utf-8')\n",
    "        # tokenizer = BertTokenizer.from_pretrained('bert-base-uncased', do_lower_case=True)\n",
    "        # self.gold = codecs.open('/data/bqw/GraphEnt_3_21/abs_gate.112000.gold', 'w', 'utf-8')\n",
    "        # self.cand = codecs.open('/data/bqw/GraphEnt_3_21/abs_gate.112000.candidate', 'w', 'utf-8')\n",
    "        # sample_num = 1\n",
    "        #\n",
    "        # with torch.no_grad():\n",
    "        #     for batch in data_iter:\n",
    "        #         for i, sample in enumerate(batch.ent_text):\n",
    "        #             spo_num_meta = batch.spo_num[i]\n",
    "        #             ent_num_meta = len(sample)\n",
    "        #             raw_ent = ['[root]']\n",
    "        #\n",
    "        #             gold = linecache.getline(\"/data/bqw/GraphEnt_3_21/logs/abs_gate.112000.gold\", sample_num).strip()\n",
    "        #             cand1 = linecache.getline(\"/data/bqw/GraphEnt_3_21/logs/abs_gate.112000.candidate\", sample_num).strip()\n",
    "        #             cand2 = linecache.getline(\"/data/bqw/PreSumm/logs/test_ent_1.118000.candidate\", sample_num).strip()\n",
    "        #\n",
    "        #             sample_num += 1\n",
    "        #             for j, meta_ent in enumerate(sample):\n",
    "        #                 if j == 0:\n",
    "        #                     continue\n",
    "        #                 meta_text = ' '.join(tokenizer.convert_ids_to_tokens(meta_ent)).replace(' ##', '')\n",
    "        #                 raw_ent.append(meta_text)\n",
    "        #             raw_ent = '[CLS]'.join(raw_ent).strip()\n",
    "        #             # print(raw_ent)\n",
    "        #             # self.ent_file.write(gold+'[ANA]'+cand+'[ANA]'+raw_ent + '[ANA]{}[ANA]{}'.format(ent_num_meta, spo_num_meta) + '\\n')\n",
    "        #             self.ent_file.write(gold+'[ANA]'+cand1+'[ANA]'+cand2+'[ANA]'\n",
    "        #                                 +raw_ent + '[ANA]{}[ANA]{}'.format(ent_num_meta, spo_num_meta) + '\\n')\n",
    "        #     self.ent_file.flush()\n",
    "        # self.ent_file.close()"
   ]
  },
  {
   "cell_type": "code",
   "execution_count": 2,
   "metadata": {},
   "outputs": [],
   "source": [
    "import os\n",
    "import re\n",
    "import shutil\n",
    "import time\n",
    "\n",
    "from others import pyrouge\n",
    "\n",
    "\n",
    "def test_rouge(temp_dir, cand, ref):\n",
    "    candidates = [line.strip() for line in open(cand, encoding='utf-8')]\n",
    "    references = [line.strip() for line in open(ref, encoding='utf-8')]\n",
    "    print(len(candidates))\n",
    "    print(len(references))\n",
    "    assert len(candidates) == len(references)\n",
    "\n",
    "    cnt = len(candidates)\n",
    "    current_time = time.strftime('%Y-%m-%d-%H-%M-%S', time.localtime())\n",
    "    tmp_dir = os.path.join(temp_dir, \"rouge-tmp-{}\".format(current_time))\n",
    "    if not os.path.isdir(tmp_dir):\n",
    "        os.mkdir(tmp_dir)\n",
    "        os.mkdir(tmp_dir + \"/candidate\")\n",
    "        os.mkdir(tmp_dir + \"/reference\")\n",
    "    try:\n",
    "\n",
    "        for i in range(cnt):\n",
    "            if len(references[i]) < 1:\n",
    "                continue\n",
    "            with open(tmp_dir + \"/candidate/cand.{}.txt\".format(i), \"w\",\n",
    "                      encoding=\"utf-8\") as f:\n",
    "                f.write(candidates[i])\n",
    "            with open(tmp_dir + \"/reference/ref.{}.txt\".format(i), \"w\",\n",
    "                      encoding=\"utf-8\") as f:\n",
    "                f.write(references[i])\n",
    "        r = pyrouge.Rouge155(temp_dir=temp_dir)\n",
    "        r.model_dir = tmp_dir + \"/reference/\"\n",
    "        r.system_dir = tmp_dir + \"/candidate/\"\n",
    "        r.model_filename_pattern = 'ref.#ID#.txt'\n",
    "        r.system_filename_pattern = r'cand.(\\d+).txt'\n",
    "        rouge_results = r.convert_and_evaluate()\n",
    "        print(rouge_results)\n",
    "        results_dict = r.output_to_dict(rouge_results)\n",
    "    finally:\n",
    "        pass\n",
    "        if os.path.isdir(tmp_dir):\n",
    "            shutil.rmtree(tmp_dir)\n",
    "    return results_dict\n",
    "\n",
    "def rouge_results_to_str(results_dict):\n",
    "    return \">> ROUGE-F(1/2/3/l): {:.2f}/{:.2f}/{:.2f}\\nROUGE-R(1/2/3/l): {:.2f}/{:.2f}/{:.2f}\\n\".format(\n",
    "        results_dict[\"rouge_1_f_score\"] * 100,\n",
    "        results_dict[\"rouge_2_f_score\"] * 100,\n",
    "        # results_dict[\"rouge_3_f_score\"] * 100,\n",
    "        results_dict[\"rouge_l_f_score\"] * 100,\n",
    "        results_dict[\"rouge_1_recall\"] * 100,\n",
    "        results_dict[\"rouge_2_recall\"] * 100,\n",
    "        # results_dict[\"rouge_3_f_score\"] * 100,\n",
    "        results_dict[\"rouge_l_recall\"] * 100\n",
    "\n",
    "        # ,results_dict[\"rouge_su*_f_score\"] * 100\n",
    "    )\n",
    "\n",
    "def text_sim(text1, text2):\n",
    "    text1_bag = set(text1.split(' '))\n",
    "    text2_bag = set(text2.split(' '))\n",
    "    return len(text1_bag.intersection(text2_bag))/len(text1_bag)"
   ]
  },
  {
   "cell_type": "code",
   "execution_count": 3,
   "metadata": {},
   "outputs": [
    {
     "name": "stderr",
     "output_type": "stream",
     "text": [
      "/data/bqw/anaconda3/lib/python3.7/importlib/_bootstrap.py:219: RuntimeWarning: spacy.tokens.span.Span size changed, may indicate binary incompatibility. Expected 72 from C header, got 80 from PyObject\n",
      "  return f(*args, **kwds)\n"
     ]
    },
    {
     "data": {
      "text/plain": [
       "<spacy.lang.en.English at 0x7f239008df10>"
      ]
     },
     "execution_count": 3,
     "metadata": {},
     "output_type": "execute_result"
    }
   ],
   "source": [
    "import spacy\n",
    "from spacy import displacy\n",
    "nlp = spacy.load('en_core_web_sm')\n",
    "# Add neural coref to SpaCy's pipe\n",
    "import neuralcoref\n",
    "neuralcoref.add_to_pipe(nlp)"
   ]
  },
  {
   "cell_type": "code",
   "execution_count": null,
   "metadata": {},
   "outputs": [],
   "source": []
  },
  {
   "cell_type": "code",
   "execution_count": 36,
   "metadata": {},
   "outputs": [
    {
     "data": {
      "text/html": [
       "<div>\n",
       "<style scoped>\n",
       "    .dataframe tbody tr th:only-of-type {\n",
       "        vertical-align: middle;\n",
       "    }\n",
       "\n",
       "    .dataframe tbody tr th {\n",
       "        vertical-align: top;\n",
       "    }\n",
       "\n",
       "    .dataframe thead th {\n",
       "        text-align: right;\n",
       "    }\n",
       "</style>\n",
       "<table border=\"1\" class=\"dataframe\">\n",
       "  <thead>\n",
       "    <tr style=\"text-align: right;\">\n",
       "      <th></th>\n",
       "      <th>src</th>\n",
       "      <th>gold</th>\n",
       "      <th>cand_our</th>\n",
       "      <th>cand_bertsum</th>\n",
       "      <th>ent</th>\n",
       "      <th>ent_num</th>\n",
       "      <th>spo_num</th>\n",
       "      <th>gold_ent_num</th>\n",
       "      <th>cand_our_ent_num</th>\n",
       "      <th>cand_bert_ent_num</th>\n",
       "      <th>gold_ent</th>\n",
       "      <th>cand_our_ent</th>\n",
       "      <th>cand_bert_ent</th>\n",
       "      <th>gold_our</th>\n",
       "      <th>gold_bertsum</th>\n",
       "      <th>cand_our_score</th>\n",
       "      <th>cand_bert_score</th>\n",
       "      <th>score</th>\n",
       "    </tr>\n",
       "  </thead>\n",
       "  <tbody>\n",
       "    <tr>\n",
       "      <td>2001</td>\n",
       "      <td>[CLS] supreme court chief justice john roberts...</td>\n",
       "      <td>chief justice john roberts , 60 , arrived in r...</td>\n",
       "      <td>supreme court chief justice john roberts repor...</td>\n",
       "      <td>the 60-year-old was called to serve on a case ...</td>\n",
       "      <td>[root][CLS]supreme court chief justice john ro...</td>\n",
       "      <td>10</td>\n",
       "      <td>16</td>\n",
       "      <td>2</td>\n",
       "      <td>5</td>\n",
       "      <td>1</td>\n",
       "      <td>[rockville, wednesday]</td>\n",
       "      <td>[supreme court chief justice john roberts, jur...</td>\n",
       "      <td>[jurors]</td>\n",
       "      <td>0.952381</td>\n",
       "      <td>0.0</td>\n",
       "      <td>0.846154</td>\n",
       "      <td>0.230769</td>\n",
       "      <td>0.615385</td>\n",
       "    </tr>\n",
       "  </tbody>\n",
       "</table>\n",
       "</div>"
      ],
      "text/plain": [
       "                                                    src  \\\n",
       "2001  [CLS] supreme court chief justice john roberts...   \n",
       "\n",
       "                                                   gold  \\\n",
       "2001  chief justice john roberts , 60 , arrived in r...   \n",
       "\n",
       "                                               cand_our  \\\n",
       "2001  supreme court chief justice john roberts repor...   \n",
       "\n",
       "                                           cand_bertsum  \\\n",
       "2001  the 60-year-old was called to serve on a case ...   \n",
       "\n",
       "                                                    ent  ent_num  spo_num  \\\n",
       "2001  [root][CLS]supreme court chief justice john ro...       10       16   \n",
       "\n",
       "      gold_ent_num  cand_our_ent_num  cand_bert_ent_num  \\\n",
       "2001             2                 5                  1   \n",
       "\n",
       "                    gold_ent  \\\n",
       "2001  [rockville, wednesday]   \n",
       "\n",
       "                                           cand_our_ent cand_bert_ent  \\\n",
       "2001  [supreme court chief justice john roberts, jur...      [jurors]   \n",
       "\n",
       "      gold_our  gold_bertsum  cand_our_score  cand_bert_score     score  \n",
       "2001  0.952381           0.0        0.846154         0.230769  0.615385  "
      ]
     },
     "execution_count": 36,
     "metadata": {},
     "output_type": "execute_result"
    }
   ],
   "source": [
    "import pandas as pd\n",
    "import linecache\n",
    "import codecs\n",
    "\n",
    "\n",
    "data = pd.read_table(\"/data/bqw/GraphEnt_3_21/logs/test_ent_1_step112000.ent\", sep=\"\\[ANA\\]\", header=None, names=['src','gold','cand_our', 'cand_bertsum','ent','ent_num','spo_num'],\n",
    "                     encoding='utf-8', engine='python')\n",
    "def has_ent(src, ent):\n",
    "    ent_list=ent.split('[CLS]')\n",
    "    count = 0\n",
    "    for meta in ent_list:\n",
    "        if meta in src:\n",
    "            count += 1\n",
    "    return count\n",
    "def return_ent(src, ent):\n",
    "    ent_list=ent.split('[CLS]')\n",
    "    count = 0\n",
    "    return_list = []\n",
    "    for meta in ent_list:\n",
    "        if meta in src:\n",
    "            return_list.append(meta)\n",
    "    return return_list\n",
    "data['gold_ent_num'] = data.apply(lambda x: has_ent(x['gold'], x['ent']), axis=1)\n",
    "data['cand_our_ent_num'] = data.apply(lambda x: has_ent(x['cand_our'], x['ent']), axis=1)\n",
    "data['cand_bert_ent_num'] = data.apply(lambda x: has_ent(x['cand_bertsum'], x['ent']), axis=1)\n",
    "\n",
    "data['gold_ent'] = data.apply(lambda x: return_ent(x['gold'], x['ent']), axis=1)\n",
    "data['cand_our_ent'] = data.apply(lambda x: return_ent(x['cand_our'], x['ent']), axis=1)\n",
    "data['cand_bert_ent'] = data.apply(lambda x: return_ent(x['cand_bertsum'], x['ent']), axis=1)\n",
    "\n",
    "data['gold_our'] = data.apply(lambda x: len(set(x['gold_ent']).intersection(set(x['cand_our_ent'])))/(x['gold_ent_num']+0.1), axis=1)\n",
    "data['gold_bertsum']= data.apply(lambda x: len(set(x['gold_ent']).intersection(set(x['cand_bert_ent'])))/(x['gold_ent_num']+0.1), axis=1)\n",
    "\n",
    "data['cand_our_score'] = data.apply(lambda x: text_sim(x['gold'], x['cand_our']), axis=1)\n",
    "data['cand_bert_score'] = data.apply(lambda x: text_sim(x['gold'], x['cand_bertsum']), axis=1)\n",
    "data['score'] = data['cand_our_score'] - data['cand_bert_score']\n",
    "data.sort_values(\"score\",inplace=False, ascending=False).head(1)\n"
   ]
  },
  {
   "cell_type": "code",
   "execution_count": 27,
   "metadata": {},
   "outputs": [],
   "source": [
    "import spacy\n",
    "from spacy import displacy\n",
    "nlp = spacy.load('en_core_web_sm')"
   ]
  },
  {
   "cell_type": "code",
   "execution_count": 34,
   "metadata": {},
   "outputs": [
    {
     "name": "stdout",
     "output_type": "stream",
     "text": [
      "rockville\n",
      "wednesday\n"
     ]
    },
    {
     "data": {
      "text/plain": [
       "[]"
      ]
     },
     "execution_count": 34,
     "metadata": {},
     "output_type": "execute_result"
    }
   ],
   "source": [
    "def has_ent(src, ent):\n",
    "    ent_list=ent.split('[CLS]')\n",
    "    count = 0\n",
    "    for meta in ent_list:\n",
    "        if meta in src:\n",
    "            print(meta)\n",
    "            count += 1\n",
    "    return count\n",
    "has_ent(data.iloc[2001].gold, data.iloc[2001].ent)\n",
    "def return_ent(src, ent):\n",
    "    ent_list=ent.split('[CLS]')\n",
    "    count = 0\n",
    "    ent_list = []\n",
    "    for meta in ent_list:\n",
    "        if meta in src:\n",
    "            ent_list.append(meta)\n",
    "    return ent_list\n",
    "return_ent(data.iloc[2001].gold, data.iloc[2001].ent)"
   ]
  },
  {
   "cell_type": "code",
   "execution_count": 29,
   "metadata": {},
   "outputs": [
    {
     "data": {
      "text/plain": [
       "\"supreme court chief justice john roberts reported for jury duty in rockville , maryland on wednesday - and was not selected<q>the 60-year-old was called to serve on a case involving a car crash and had to answer a couple of questions about his relatives<q>however , when it came to a question about the jurors legal experience the sitting judge refrained from making roberts answer , saying , ' obviously we know what you do for a living , sir '\""
      ]
     },
     "execution_count": 29,
     "metadata": {},
     "output_type": "execute_result"
    }
   ],
   "source": [
    "# print(data.iloc[1232].src)\n",
    "# doc = nlp(data.iloc[1232].gold)\n",
    "# src_coref=doc._.coref_clusters\n",
    "# src_coref=sorted(src_coref, key=lambda x: len(x),reverse=True)\n",
    "data.iloc[2001].ent.split('[CLS]')\n",
    "data.iloc[2001].cand_our\n"
   ]
  },
  {
   "cell_type": "code",
   "execution_count": 6,
   "metadata": {},
   "outputs": [],
   "source": [
    "human_eva = '/data/bqw/GraphEnt_3_21/logs/cnndm/human_eva.txt'\n",
    "human_eva = codecs.open(human_eva, 'w', 'utf-8')\n",
    "for i in data.sort_values(\"score\",inplace=False, ascending=False).head(30).index:\n",
    "    src = data.iloc[i].src.replace(' ##', '').strip()\n",
    "    ent = data.iloc[i].ent.strip()\n",
    "    gold = data.iloc[i].gold.strip()\n",
    "    bertsum = data.iloc[i].cand_bertsum.strip()\n",
    "    our = data.iloc[i].cand_our.strip()\n",
    "    human_eva.write('src:'+src+'\\n'+'ent:'+ ent +'\\n'+'gold:'+gold+'\\n'+'bertsumabs:'+bertsum+'\\n'+'graphsum:'+our+'\\n'+'\\n')\n"
   ]
  },
  {
   "cell_type": "code",
   "execution_count": 18,
   "metadata": {},
   "outputs": [],
   "source": [
    "# data.iloc[1232].src.replace(' ##', '')"
   ]
  },
  {
   "cell_type": "code",
   "execution_count": 37,
   "metadata": {},
   "outputs": [
    {
     "data": {
      "text/html": [
       "<div>\n",
       "<style scoped>\n",
       "    .dataframe tbody tr th:only-of-type {\n",
       "        vertical-align: middle;\n",
       "    }\n",
       "\n",
       "    .dataframe tbody tr th {\n",
       "        vertical-align: top;\n",
       "    }\n",
       "\n",
       "    .dataframe thead th {\n",
       "        text-align: right;\n",
       "    }\n",
       "</style>\n",
       "<table border=\"1\" class=\"dataframe\">\n",
       "  <thead>\n",
       "    <tr style=\"text-align: right;\">\n",
       "      <th></th>\n",
       "      <th>ent_num</th>\n",
       "      <th>spo_num</th>\n",
       "      <th>gold_ent_num</th>\n",
       "      <th>cand_our_ent_num</th>\n",
       "      <th>cand_bert_ent_num</th>\n",
       "      <th>gold_our</th>\n",
       "      <th>gold_bertsum</th>\n",
       "      <th>cand_our_score</th>\n",
       "      <th>cand_bert_score</th>\n",
       "      <th>score</th>\n",
       "    </tr>\n",
       "  </thead>\n",
       "  <tbody>\n",
       "    <tr>\n",
       "      <td>count</td>\n",
       "      <td>11490.000000</td>\n",
       "      <td>11490.000000</td>\n",
       "      <td>11490.000000</td>\n",
       "      <td>11490.000000</td>\n",
       "      <td>11490.000000</td>\n",
       "      <td>11490.000000</td>\n",
       "      <td>11490.000000</td>\n",
       "      <td>11490.000000</td>\n",
       "      <td>11490.000000</td>\n",
       "      <td>11490.000000</td>\n",
       "    </tr>\n",
       "    <tr>\n",
       "      <td>mean</td>\n",
       "      <td>14.824195</td>\n",
       "      <td>25.948042</td>\n",
       "      <td>3.236902</td>\n",
       "      <td>3.992428</td>\n",
       "      <td>3.793734</td>\n",
       "      <td>0.620028</td>\n",
       "      <td>0.601189</td>\n",
       "      <td>0.415296</td>\n",
       "      <td>0.401985</td>\n",
       "      <td>0.013312</td>\n",
       "    </tr>\n",
       "    <tr>\n",
       "      <td>std</td>\n",
       "      <td>7.641438</td>\n",
       "      <td>20.266546</td>\n",
       "      <td>2.178699</td>\n",
       "      <td>2.352635</td>\n",
       "      <td>2.250234</td>\n",
       "      <td>0.333134</td>\n",
       "      <td>0.335055</td>\n",
       "      <td>0.139427</td>\n",
       "      <td>0.137442</td>\n",
       "      <td>0.103351</td>\n",
       "    </tr>\n",
       "    <tr>\n",
       "      <td>min</td>\n",
       "      <td>1.000000</td>\n",
       "      <td>1.000000</td>\n",
       "      <td>0.000000</td>\n",
       "      <td>0.000000</td>\n",
       "      <td>0.000000</td>\n",
       "      <td>0.000000</td>\n",
       "      <td>0.000000</td>\n",
       "      <td>0.028571</td>\n",
       "      <td>0.000000</td>\n",
       "      <td>-0.785714</td>\n",
       "    </tr>\n",
       "    <tr>\n",
       "      <td>25%</td>\n",
       "      <td>9.000000</td>\n",
       "      <td>12.000000</td>\n",
       "      <td>2.000000</td>\n",
       "      <td>2.000000</td>\n",
       "      <td>2.000000</td>\n",
       "      <td>0.476190</td>\n",
       "      <td>0.392157</td>\n",
       "      <td>0.318182</td>\n",
       "      <td>0.304348</td>\n",
       "      <td>-0.037037</td>\n",
       "    </tr>\n",
       "    <tr>\n",
       "      <td>50%</td>\n",
       "      <td>13.000000</td>\n",
       "      <td>21.000000</td>\n",
       "      <td>3.000000</td>\n",
       "      <td>4.000000</td>\n",
       "      <td>4.000000</td>\n",
       "      <td>0.655738</td>\n",
       "      <td>0.645161</td>\n",
       "      <td>0.403677</td>\n",
       "      <td>0.390244</td>\n",
       "      <td>0.000000</td>\n",
       "    </tr>\n",
       "    <tr>\n",
       "      <td>75%</td>\n",
       "      <td>19.000000</td>\n",
       "      <td>34.000000</td>\n",
       "      <td>4.000000</td>\n",
       "      <td>5.000000</td>\n",
       "      <td>5.000000</td>\n",
       "      <td>0.952381</td>\n",
       "      <td>0.909091</td>\n",
       "      <td>0.500000</td>\n",
       "      <td>0.485714</td>\n",
       "      <td>0.066667</td>\n",
       "    </tr>\n",
       "    <tr>\n",
       "      <td>max</td>\n",
       "      <td>68.000000</td>\n",
       "      <td>224.000000</td>\n",
       "      <td>17.000000</td>\n",
       "      <td>16.000000</td>\n",
       "      <td>17.000000</td>\n",
       "      <td>0.990099</td>\n",
       "      <td>0.990099</td>\n",
       "      <td>1.000000</td>\n",
       "      <td>1.000000</td>\n",
       "      <td>0.615385</td>\n",
       "    </tr>\n",
       "  </tbody>\n",
       "</table>\n",
       "</div>"
      ],
      "text/plain": [
       "            ent_num       spo_num  gold_ent_num  cand_our_ent_num  \\\n",
       "count  11490.000000  11490.000000  11490.000000      11490.000000   \n",
       "mean      14.824195     25.948042      3.236902          3.992428   \n",
       "std        7.641438     20.266546      2.178699          2.352635   \n",
       "min        1.000000      1.000000      0.000000          0.000000   \n",
       "25%        9.000000     12.000000      2.000000          2.000000   \n",
       "50%       13.000000     21.000000      3.000000          4.000000   \n",
       "75%       19.000000     34.000000      4.000000          5.000000   \n",
       "max       68.000000    224.000000     17.000000         16.000000   \n",
       "\n",
       "       cand_bert_ent_num      gold_our  gold_bertsum  cand_our_score  \\\n",
       "count       11490.000000  11490.000000  11490.000000    11490.000000   \n",
       "mean            3.793734      0.620028      0.601189        0.415296   \n",
       "std             2.250234      0.333134      0.335055        0.139427   \n",
       "min             0.000000      0.000000      0.000000        0.028571   \n",
       "25%             2.000000      0.476190      0.392157        0.318182   \n",
       "50%             4.000000      0.655738      0.645161        0.403677   \n",
       "75%             5.000000      0.952381      0.909091        0.500000   \n",
       "max            17.000000      0.990099      0.990099        1.000000   \n",
       "\n",
       "       cand_bert_score         score  \n",
       "count     11490.000000  11490.000000  \n",
       "mean          0.401985      0.013312  \n",
       "std           0.137442      0.103351  \n",
       "min           0.000000     -0.785714  \n",
       "25%           0.304348     -0.037037  \n",
       "50%           0.390244      0.000000  \n",
       "75%           0.485714      0.066667  \n",
       "max           1.000000      0.615385  "
      ]
     },
     "execution_count": 37,
     "metadata": {},
     "output_type": "execute_result"
    }
   ],
   "source": [
    "data.describe()"
   ]
  },
  {
   "cell_type": "code",
   "execution_count": 41,
   "metadata": {},
   "outputs": [
    {
     "data": {
      "text/plain": [
       "3.0"
      ]
     },
     "execution_count": 41,
     "metadata": {},
     "output_type": "execute_result"
    }
   ],
   "source": [
    "import math\n",
    "math.fabs(3)"
   ]
  },
  {
   "cell_type": "code",
   "execution_count": 42,
   "metadata": {},
   "outputs": [
    {
     "name": "stdout",
     "output_type": "stream",
     "text": [
      "3622\n",
      "5338\n",
      "2530\n"
     ]
    }
   ],
   "source": [
    "low_group = data[(data.ent_num<=10)].index.tolist()\n",
    "medium_group = data[(data.ent_num>10) & (data.ent_num<20)].index.tolist()\n",
    "high_group = data[(data.ent_num>=20)].index.tolist()\n",
    "print(len(low_group))\n",
    "print(len(medium_group))\n",
    "print(len(high_group))\n"
   ]
  },
  {
   "cell_type": "code",
   "execution_count": null,
   "metadata": {},
   "outputs": [],
   "source": []
  },
  {
   "cell_type": "code",
   "execution_count": 43,
   "metadata": {},
   "outputs": [
    {
     "name": "stdout",
     "output_type": "stream",
     "text": [
      "2530\n"
     ]
    }
   ],
   "source": [
    "can1_low='/data/bqw/GraphEnt_3_21/logs/jupyter_can1_low'\n",
    "can2_low='/data/bqw/GraphEnt_3_21/logs/jupyter_can2_low'\n",
    "gold_low='/data/bqw/GraphEnt_3_21/logs/jupyter_gold_low'\n",
    "\n",
    "can1_file=codecs.open(can1_low, 'w', 'utf-8')\n",
    "can2_file=codecs.open(can2_low, 'w', 'utf-8')\n",
    "gold_file=codecs.open(gold_low, 'w', 'utf-8')\n",
    "count=0\n",
    "for meta in high_group:\n",
    "    count+=1\n",
    "    meta_can1=linecache.getline(\"/data/bqw/GraphEnt_3_21/logs/abs_gate.112000.candidate\", meta+1).strip()\n",
    "    meta_can2=linecache.getline(\"/data/bqw/PreSumm/logs/test_ent_1.118000.candidate\", meta+1).strip()\n",
    "#     meta_gold=linecache.getline(\"/data/bqw/GraphEnt_3_21/logs/abs_gate.112000.gold\", meta+1).strip()\n",
    "    meta_gold=linecache.getline(\"/data/bqw/PreSumm/logs/test_ent_1.118000.gold\", meta+1).strip()\n",
    "    \n",
    "    can1_file.write(meta_can1 + '\\n')\n",
    "    can2_file.write(meta_can2 + '\\n')\n",
    "    gold_file.write(meta_gold + '\\n')\n",
    "can1_file.close()\n",
    "can2_file.close()\n",
    "gold_file.close()\n",
    "\n",
    "print(count)"
   ]
  },
  {
   "cell_type": "code",
   "execution_count": 87,
   "metadata": {},
   "outputs": [
    {
     "name": "stdout",
     "output_type": "stream",
     "text": [
      "3454\n"
     ]
    }
   ],
   "source": [
    "import math\n",
    "new_can = '/data/bqw/GraphEnt_3_21/logs/nyt/abs_gate_nyt_truncate.56000.candidate'\n",
    "can_file = codecs.open(new_can, 'w', 'utf-8')\n",
    "count=1\n",
    "while True:\n",
    "\n",
    "    pred_str = linecache.getline(\"/data/bqw/GraphEnt_3_21/logs/nyt/abs_gate_nyt.56000.candidate\", count).strip()\n",
    "    gold_str = linecache.getline(\"/data/bqw/GraphEnt_3_21/logs/nyt/abs_gate_nyt.56000.gold\", count).strip()\n",
    "    count+=1\n",
    "    if len(pred_str)>0:\n",
    "        _pred_str = ''\n",
    "        gap = 1e3\n",
    "        for sent in pred_str.split('<q>'):\n",
    "            can_pred_str = _pred_str+ '<q>'+sent.strip()\n",
    "            can_gap = math.fabs(len(_pred_str.split())-len(gold_str.split()))\n",
    "            # if(can_gap>=gap):\n",
    "            if(len(can_pred_str.split())>=len(gold_str.split())+10):\n",
    "                pred_str = _pred_str\n",
    "                break\n",
    "            else:\n",
    "                gap = can_gap\n",
    "                _pred_str = can_pred_str\n",
    "        can_file.write(_pred_str + '\\n')\n",
    "    else:\n",
    "        print(count)\n",
    "#         can_file.write('\\n')\n",
    "        break\n",
    "can_file.close()"
   ]
  },
  {
   "cell_type": "code",
   "execution_count": 88,
   "metadata": {},
   "outputs": [
    {
     "name": "stderr",
     "output_type": "stream",
     "text": [
      "2020-05-31 19:47:05,547 [MainThread  ] [INFO ]  Writing summaries.\n",
      "2020-05-31 19:47:05,549 [MainThread  ] [INFO ]  Processing summaries. Saving system files to ../logs/temp/tmp50c0ito2/system and model files to ../logs/temp/tmp50c0ito2/model.\n",
      "2020-05-31 19:47:05,550 [MainThread  ] [INFO ]  Processing files in ../logs/temp/rouge-tmp-2020-05-31-19-47-05/candidate/.\n"
     ]
    },
    {
     "name": "stdout",
     "output_type": "stream",
     "text": [
      "3452\n",
      "3452\n"
     ]
    },
    {
     "name": "stderr",
     "output_type": "stream",
     "text": [
      "2020-05-31 19:47:05,776 [MainThread  ] [INFO ]  Saved processed files to ../logs/temp/tmp50c0ito2/system.\n",
      "2020-05-31 19:47:05,777 [MainThread  ] [INFO ]  Processing files in ../logs/temp/rouge-tmp-2020-05-31-19-47-05/reference/.\n",
      "2020-05-31 19:47:06,007 [MainThread  ] [INFO ]  Saved processed files to ../logs/temp/tmp50c0ito2/model.\n",
      "2020-05-31 19:47:06,049 [MainThread  ] [INFO ]  Written ROUGE configuration to ../logs/temp/tmpajva31rr/rouge_conf.xml\n",
      "2020-05-31 19:47:06,050 [MainThread  ] [INFO ]  Running ROUGE with command /data/bqw/ROUGE/RELEASE-1.5.5/ROUGE-1.5.5.pl -e /data/bqw/ROUGE/RELEASE-1.5.5/data -c 95 -m -r 1000 -n 2 -a ../logs/temp/tmpajva31rr/rouge_conf.xml\n"
     ]
    },
    {
     "name": "stdout",
     "output_type": "stream",
     "text": [
      "---------------------------------------------\n",
      "1 ROUGE-1 Average_R: 0.47053 (95%-conf.int. 0.46458 - 0.47672)\n",
      "1 ROUGE-1 Average_P: 0.58213 (95%-conf.int. 0.57580 - 0.58900)\n",
      "1 ROUGE-1 Average_F: 0.51219 (95%-conf.int. 0.50668 - 0.51818)\n",
      "---------------------------------------------\n",
      "1 ROUGE-2 Average_R: 0.31160 (95%-conf.int. 0.30508 - 0.31895)\n",
      "1 ROUGE-2 Average_P: 0.38595 (95%-conf.int. 0.37799 - 0.39478)\n",
      "1 ROUGE-2 Average_F: 0.33920 (95%-conf.int. 0.33218 - 0.34696)\n",
      "---------------------------------------------\n",
      "1 ROUGE-L Average_R: 0.43988 (95%-conf.int. 0.43391 - 0.44652)\n",
      "1 ROUGE-L Average_P: 0.54453 (95%-conf.int. 0.53767 - 0.55201)\n",
      "1 ROUGE-L Average_F: 0.47894 (95%-conf.int. 0.47312 - 0.48540)\n",
      "\n"
     ]
    },
    {
     "data": {
      "text/plain": [
       "'>> ROUGE-F(1/2/3/l): 51.22/33.92/47.89\\nROUGE-R(1/2/3/l): 47.05/31.16/43.99\\n'"
      ]
     },
     "execution_count": 88,
     "metadata": {},
     "output_type": "execute_result"
    }
   ],
   "source": [
    "rouges = test_rouge('../logs/temp', '/data/bqw/GraphEnt_3_21/logs/nyt/abs_gate_nyt_truncate.56000.candidate', \"/data/bqw/GraphEnt_3_21/logs/nyt/abs_gate_nyt.56000.gold\")\n",
    "rouge_results_to_str(rouges)"
   ]
  },
  {
   "cell_type": "code",
   "execution_count": 11,
   "metadata": {},
   "outputs": [],
   "source": [
    "\n",
    "new_can = '/data/bqw/GraphEnt_3_21/logs/abs_gate_nyt_truncate.70000.candidate'\n",
    "can_file = codecs.open(new_can, 'w', 'utf-8')\n",
    "count=1\n",
    "while True:\n",
    "    new_can = linecache.getline(\"/data/bqw/GraphEnt_3_21/logs/abs_gate_nyt.70000.candidate\", count).strip()\n",
    "    gold = linecache.getline(\"/data/bqw/GraphEnt_3_21/logs/abs_gate_nyt.70000.gold\", count).strip()\n",
    "    count+=1\n",
    "    new_can_list = new_can.split(' ')\n",
    "    if len(new_can)>0:\n",
    "        gold_list = gold.split(' ')\n",
    "        new_can= ' '.join(new_can_list[:len(gold_list)])\n",
    "        can_file.write(new_can + '\\n')\n",
    "    if len(new_can) == 0:\n",
    "        can_file.write('\\n')\n",
    "        break\n",
    "# /data/bqw/GraphEnt_3_21/logs\n",
    "# linecache.getline(\"/data/bqw/GraphEnt_3_21/logs/cnndm/abs_gate.112000.candidate\", 1).strip()"
   ]
  },
  {
   "cell_type": "code",
   "execution_count": 74,
   "metadata": {},
   "outputs": [
    {
     "name": "stdout",
     "output_type": "stream",
     "text": [
      "3454\n"
     ]
    }
   ],
   "source": [
    "new_can = '/data/bqw/PreSumm_4/logs/before/abs_bert_cnndm_trc.86000.candidate'\n",
    "can_file = codecs.open(new_can, 'w', 'utf-8')\n",
    "count=1\n",
    "while True:\n",
    "    pred_str = linecache.getline(\"/data/bqw/PreSumm_4/logs/before/abs_bert_cnndm.86000.candidate\", count).strip()\n",
    "    gold_str = linecache.getline(\"/data/bqw/PreSumm_4/logs/before/abs_bert_cnndm.86000.gold\", count).strip()\n",
    "    count+=1\n",
    "    if len(pred_str)>0:\n",
    "        _pred_str = ''\n",
    "        gap = 1e3\n",
    "        for sent in pred_str.split('<q>'):\n",
    "            can_pred_str = _pred_str+ '<q>'+sent.strip()\n",
    "            can_gap = math.fabs(len(_pred_str.split())-len(gold_str.split()))\n",
    "            # if(can_gap>=gap):\n",
    "            if(len(can_pred_str.split())>=len(gold_str.split())+10):\n",
    "                pred_str = _pred_str\n",
    "                break\n",
    "            else:\n",
    "                gap = can_gap\n",
    "                _pred_str = can_pred_str\n",
    "        can_file.write(_pred_str + '\\n')\n",
    "    else:\n",
    "        print(count)\n",
    "#         can_file.write('\\n')\n",
    "        break\n",
    "can_file.close()"
   ]
  },
  {
   "cell_type": "code",
   "execution_count": 84,
   "metadata": {},
   "outputs": [
    {
     "name": "stderr",
     "output_type": "stream",
     "text": [
      "2020-05-31 19:40:43,548 [MainThread  ] [INFO ]  Writing summaries.\n",
      "2020-05-31 19:40:43,549 [MainThread  ] [INFO ]  Processing summaries. Saving system files to ../logs/temp/tmpz2agpipd/system and model files to ../logs/temp/tmpz2agpipd/model.\n",
      "2020-05-31 19:40:43,550 [MainThread  ] [INFO ]  Processing files in ../logs/temp/rouge-tmp-2020-05-31-19-40-43/candidate/.\n"
     ]
    },
    {
     "name": "stdout",
     "output_type": "stream",
     "text": [
      "3452\n",
      "3452\n"
     ]
    },
    {
     "name": "stderr",
     "output_type": "stream",
     "text": [
      "2020-05-31 19:40:43,783 [MainThread  ] [INFO ]  Saved processed files to ../logs/temp/tmpz2agpipd/system.\n",
      "2020-05-31 19:40:43,784 [MainThread  ] [INFO ]  Processing files in ../logs/temp/rouge-tmp-2020-05-31-19-40-43/reference/.\n",
      "2020-05-31 19:40:44,019 [MainThread  ] [INFO ]  Saved processed files to ../logs/temp/tmpz2agpipd/model.\n",
      "2020-05-31 19:40:44,049 [MainThread  ] [INFO ]  Written ROUGE configuration to ../logs/temp/tmph7mdt_hz/rouge_conf.xml\n",
      "2020-05-31 19:40:44,049 [MainThread  ] [INFO ]  Running ROUGE with command /data/bqw/ROUGE/RELEASE-1.5.5/ROUGE-1.5.5.pl -e /data/bqw/ROUGE/RELEASE-1.5.5/data -c 95 -m -r 1000 -n 2 -a ../logs/temp/tmph7mdt_hz/rouge_conf.xml\n"
     ]
    },
    {
     "name": "stdout",
     "output_type": "stream",
     "text": [
      "---------------------------------------------\n",
      "1 ROUGE-1 Average_R: 0.46351 (95%-conf.int. 0.45770 - 0.46970)\n",
      "1 ROUGE-1 Average_P: 0.59423 (95%-conf.int. 0.58764 - 0.60111)\n",
      "1 ROUGE-1 Average_F: 0.51171 (95%-conf.int. 0.50601 - 0.51775)\n",
      "---------------------------------------------\n",
      "1 ROUGE-2 Average_R: 0.30741 (95%-conf.int. 0.30058 - 0.31488)\n",
      "1 ROUGE-2 Average_P: 0.39548 (95%-conf.int. 0.38744 - 0.40423)\n",
      "1 ROUGE-2 Average_F: 0.33966 (95%-conf.int. 0.33246 - 0.34733)\n",
      "---------------------------------------------\n",
      "1 ROUGE-L Average_R: 0.43320 (95%-conf.int. 0.42703 - 0.43977)\n",
      "1 ROUGE-L Average_P: 0.55599 (95%-conf.int. 0.54904 - 0.56312)\n",
      "1 ROUGE-L Average_F: 0.47844 (95%-conf.int. 0.47252 - 0.48483)\n",
      "\n"
     ]
    },
    {
     "data": {
      "text/plain": [
       "'>> ROUGE-F(1/2/3/l): 51.17/33.97/47.84\\nROUGE-R(1/2/3/l): 46.35/30.74/43.32\\n'"
      ]
     },
     "execution_count": 84,
     "metadata": {},
     "output_type": "execute_result"
    }
   ],
   "source": [
    "rouges = test_rouge('../logs/temp', '/data/bqw/GraphEnt_3_21/logs/nyt/abs_gate_nyt_truncate.70000.candidate', \"/data/bqw/GraphEnt_3_21/logs/nyt/abs_gate_nyt.70000.gold\")\n",
    "rouge_results_to_str(rouges)"
   ]
  },
  {
   "cell_type": "code",
   "execution_count": 75,
   "metadata": {},
   "outputs": [
    {
     "name": "stderr",
     "output_type": "stream",
     "text": [
      "2020-05-31 19:03:44,415 [MainThread  ] [INFO ]  Writing summaries.\n",
      "2020-05-31 19:03:44,417 [MainThread  ] [INFO ]  Processing summaries. Saving system files to ../logs/temp/tmpdayvr7kf/system and model files to ../logs/temp/tmpdayvr7kf/model.\n",
      "2020-05-31 19:03:44,418 [MainThread  ] [INFO ]  Processing files in ../logs/temp/rouge-tmp-2020-05-31-19-03-44/candidate/.\n"
     ]
    },
    {
     "name": "stdout",
     "output_type": "stream",
     "text": [
      "3452\n",
      "3452\n"
     ]
    },
    {
     "name": "stderr",
     "output_type": "stream",
     "text": [
      "2020-05-31 19:03:44,645 [MainThread  ] [INFO ]  Saved processed files to ../logs/temp/tmpdayvr7kf/system.\n",
      "2020-05-31 19:03:44,646 [MainThread  ] [INFO ]  Processing files in ../logs/temp/rouge-tmp-2020-05-31-19-03-44/reference/.\n",
      "2020-05-31 19:03:44,881 [MainThread  ] [INFO ]  Saved processed files to ../logs/temp/tmpdayvr7kf/model.\n",
      "2020-05-31 19:03:44,908 [MainThread  ] [INFO ]  Written ROUGE configuration to ../logs/temp/tmpjlu5ynor/rouge_conf.xml\n",
      "2020-05-31 19:03:44,909 [MainThread  ] [INFO ]  Running ROUGE with command /data/bqw/ROUGE/RELEASE-1.5.5/ROUGE-1.5.5.pl -e /data/bqw/ROUGE/RELEASE-1.5.5/data -c 95 -m -r 1000 -n 2 -a ../logs/temp/tmpjlu5ynor/rouge_conf.xml\n"
     ]
    },
    {
     "name": "stdout",
     "output_type": "stream",
     "text": [
      "---------------------------------------------\n",
      "1 ROUGE-1 Average_R: 0.45433 (95%-conf.int. 0.44799 - 0.46080)\n",
      "1 ROUGE-1 Average_P: 0.59321 (95%-conf.int. 0.58650 - 0.60021)\n",
      "1 ROUGE-1 Average_F: 0.50476 (95%-conf.int. 0.49880 - 0.51121)\n",
      "---------------------------------------------\n",
      "1 ROUGE-2 Average_R: 0.30085 (95%-conf.int. 0.29408 - 0.30870)\n",
      "1 ROUGE-2 Average_P: 0.39382 (95%-conf.int. 0.38544 - 0.40272)\n",
      "1 ROUGE-2 Average_F: 0.33439 (95%-conf.int. 0.32713 - 0.34248)\n",
      "---------------------------------------------\n",
      "1 ROUGE-L Average_R: 0.42544 (95%-conf.int. 0.41889 - 0.43233)\n",
      "1 ROUGE-L Average_P: 0.55620 (95%-conf.int. 0.54908 - 0.56361)\n",
      "1 ROUGE-L Average_F: 0.47287 (95%-conf.int. 0.46676 - 0.47976)\n",
      "\n"
     ]
    },
    {
     "data": {
      "text/plain": [
       "'>> ROUGE-F(1/2/3/l): 50.48/33.44/47.29\\nROUGE-R(1/2/3/l): 45.43/30.09/42.54\\n'"
      ]
     },
     "execution_count": 75,
     "metadata": {},
     "output_type": "execute_result"
    }
   ],
   "source": [
    "rouges = test_rouge('../logs/temp', '/data/bqw/PreSumm_4/logs/before/abs_bert_cnndm_trc.86000.candidate', \"/data/bqw/PreSumm_4/logs/before/abs_bert_cnndm.86000.gold\")\n",
    "rouge_results_to_str(rouges)"
   ]
  },
  {
   "cell_type": "code",
   "execution_count": 68,
   "metadata": {},
   "outputs": [
    {
     "name": "stderr",
     "output_type": "stream",
     "text": [
      "2020-05-31 18:54:11,919 [MainThread  ] [INFO ]  Writing summaries.\n",
      "2020-05-31 18:54:11,919 [MainThread  ] [INFO ]  Processing summaries. Saving system files to ../logs/temp/tmpvyc4x_ob/system and model files to ../logs/temp/tmpvyc4x_ob/model.\n",
      "2020-05-31 18:54:11,920 [MainThread  ] [INFO ]  Processing files in ../logs/temp/rouge-tmp-2020-05-31-18-54-11/candidate/.\n"
     ]
    },
    {
     "name": "stdout",
     "output_type": "stream",
     "text": [
      "3452\n",
      "3452\n"
     ]
    },
    {
     "name": "stderr",
     "output_type": "stream",
     "text": [
      "2020-05-31 18:54:12,141 [MainThread  ] [INFO ]  Saved processed files to ../logs/temp/tmpvyc4x_ob/system.\n",
      "2020-05-31 18:54:12,141 [MainThread  ] [INFO ]  Processing files in ../logs/temp/rouge-tmp-2020-05-31-18-54-11/reference/.\n",
      "2020-05-31 18:54:12,374 [MainThread  ] [INFO ]  Saved processed files to ../logs/temp/tmpvyc4x_ob/model.\n",
      "2020-05-31 18:54:12,398 [MainThread  ] [INFO ]  Written ROUGE configuration to ../logs/temp/tmpweeng2vs/rouge_conf.xml\n",
      "2020-05-31 18:54:12,398 [MainThread  ] [INFO ]  Running ROUGE with command /data/bqw/ROUGE/RELEASE-1.5.5/ROUGE-1.5.5.pl -e /data/bqw/ROUGE/RELEASE-1.5.5/data -c 95 -m -r 1000 -n 2 -a ../logs/temp/tmpweeng2vs/rouge_conf.xml\n"
     ]
    },
    {
     "name": "stdout",
     "output_type": "stream",
     "text": [
      "---------------------------------------------\n",
      "1 ROUGE-1 Average_R: 0.48210 (95%-conf.int. 0.47553 - 0.48883)\n",
      "1 ROUGE-1 Average_P: 0.57630 (95%-conf.int. 0.56951 - 0.58316)\n",
      "1 ROUGE-1 Average_F: 0.51020 (95%-conf.int. 0.50425 - 0.51648)\n",
      "---------------------------------------------\n",
      "1 ROUGE-2 Average_R: 0.31758 (95%-conf.int. 0.31014 - 0.32556)\n",
      "1 ROUGE-2 Average_P: 0.38063 (95%-conf.int. 0.37271 - 0.38928)\n",
      "1 ROUGE-2 Average_F: 0.33633 (95%-conf.int. 0.32909 - 0.34415)\n",
      "---------------------------------------------\n",
      "1 ROUGE-L Average_R: 0.45147 (95%-conf.int. 0.44469 - 0.45849)\n",
      "1 ROUGE-L Average_P: 0.54069 (95%-conf.int. 0.53360 - 0.54811)\n",
      "1 ROUGE-L Average_F: 0.47815 (95%-conf.int. 0.47195 - 0.48492)\n",
      "\n"
     ]
    },
    {
     "data": {
      "text/plain": [
       "'>> ROUGE-F(1/2/3/l): 51.02/33.63/47.82\\nROUGE-R(1/2/3/l): 48.21/31.76/45.15\\n'"
      ]
     },
     "execution_count": 68,
     "metadata": {},
     "output_type": "execute_result"
    }
   ],
   "source": [
    "rouges = test_rouge('../logs/temp', '/data/bqw/PreSumm_4/logs/before/abs_bert_cnndm.86000.candidate', \"/data/bqw/PreSumm_4/logs/before/abs_bert_cnndm.86000.gold\")\n",
    "rouge_results_to_str(rouges)"
   ]
  },
  {
   "cell_type": "code",
   "execution_count": 81,
   "metadata": {},
   "outputs": [
    {
     "name": "stdout",
     "output_type": "stream",
     "text": [
      "9762\n"
     ]
    }
   ],
   "source": [
    "new_can = '/data/bqw/PreSumm/logs/abs_bert_cnndm_tr.122000.candidate'\n",
    "can_file = codecs.open(new_can, 'w', 'utf-8')\n",
    "count=1\n",
    "while True:\n",
    "    pred_str = linecache.getline(\"/data/bqw/PreSumm/logs/abs_bert_cnndm.122000.candidate\", count).strip()\n",
    "    gold_str = linecache.getline(\"/data/bqw/PreSumm/logs/abs_bert_cnndm.122000.gold\", count).strip()\n",
    "    count+=1\n",
    "    if len(pred_str)>0:\n",
    "        _pred_str = ''\n",
    "        gap = 1e3\n",
    "        for sent in pred_str.split('<q>'):\n",
    "            can_pred_str = _pred_str+ '<q>'+sent.strip()\n",
    "            can_gap = math.fabs(len(_pred_str.split())-len(gold_str.split()))\n",
    "            # if(can_gap>=gap):\n",
    "            if(len(can_pred_str.split())>=len(gold_str.split())+10):\n",
    "                pred_str = _pred_str\n",
    "                break\n",
    "            else:\n",
    "                gap = can_gap\n",
    "                _pred_str = can_pred_str\n",
    "        can_file.write(_pred_str + '\\n')\n",
    "    else:\n",
    "        print(count)\n",
    "#         can_file.write('\\n')\n",
    "        break\n",
    "can_file.close()"
   ]
  },
  {
   "cell_type": "code",
   "execution_count": 82,
   "metadata": {},
   "outputs": [
    {
     "name": "stdout",
     "output_type": "stream",
     "text": [
      "9760\n",
      "9760\n"
     ]
    },
    {
     "name": "stderr",
     "output_type": "stream",
     "text": [
      "2020-05-31 19:15:05,595 [MainThread  ] [INFO ]  Writing summaries.\n",
      "2020-05-31 19:15:05,596 [MainThread  ] [INFO ]  Processing summaries. Saving system files to ../logs/temp/tmp_bladoru/system and model files to ../logs/temp/tmp_bladoru/model.\n",
      "2020-05-31 19:15:05,597 [MainThread  ] [INFO ]  Processing files in ../logs/temp/rouge-tmp-2020-05-31-19-15-05/candidate/.\n",
      "2020-05-31 19:15:06,212 [MainThread  ] [INFO ]  Saved processed files to ../logs/temp/tmp_bladoru/system.\n",
      "2020-05-31 19:15:06,214 [MainThread  ] [INFO ]  Processing files in ../logs/temp/rouge-tmp-2020-05-31-19-15-05/reference/.\n",
      "2020-05-31 19:15:06,861 [MainThread  ] [INFO ]  Saved processed files to ../logs/temp/tmp_bladoru/model.\n",
      "2020-05-31 19:15:06,938 [MainThread  ] [INFO ]  Written ROUGE configuration to ../logs/temp/tmp_h41h0an/rouge_conf.xml\n",
      "2020-05-31 19:15:06,939 [MainThread  ] [INFO ]  Running ROUGE with command /data/bqw/ROUGE/RELEASE-1.5.5/ROUGE-1.5.5.pl -e /data/bqw/ROUGE/RELEASE-1.5.5/data -c 95 -m -r 1000 -n 2 -a ../logs/temp/tmp_h41h0an/rouge_conf.xml\n"
     ]
    },
    {
     "name": "stdout",
     "output_type": "stream",
     "text": [
      "---------------------------------------------\n",
      "1 ROUGE-1 Average_R: 0.47258 (95%-conf.int. 0.46883 - 0.47614)\n",
      "1 ROUGE-1 Average_P: 0.59150 (95%-conf.int. 0.58737 - 0.59550)\n",
      "1 ROUGE-1 Average_F: 0.51679 (95%-conf.int. 0.51310 - 0.52038)\n",
      "---------------------------------------------\n",
      "1 ROUGE-2 Average_R: 0.31672 (95%-conf.int. 0.31252 - 0.32093)\n",
      "1 ROUGE-2 Average_P: 0.39723 (95%-conf.int. 0.39222 - 0.40212)\n",
      "1 ROUGE-2 Average_F: 0.34651 (95%-conf.int. 0.34219 - 0.35075)\n",
      "---------------------------------------------\n",
      "1 ROUGE-L Average_R: 0.44038 (95%-conf.int. 0.43649 - 0.44418)\n",
      "1 ROUGE-L Average_P: 0.55168 (95%-conf.int. 0.54733 - 0.55590)\n",
      "1 ROUGE-L Average_F: 0.48173 (95%-conf.int. 0.47783 - 0.48556)\n",
      "\n"
     ]
    },
    {
     "data": {
      "text/plain": [
       "'>> ROUGE-F(1/2/3/l): 51.68/34.65/48.17\\nROUGE-R(1/2/3/l): 47.26/31.67/44.04\\n'"
      ]
     },
     "execution_count": 82,
     "metadata": {},
     "output_type": "execute_result"
    }
   ],
   "source": [
    "rouges = test_rouge('../logs/temp', '/data/bqw/PreSumm/logs/abs_bert_cnndm_tr.122000.candidate', '/data/bqw/PreSumm/logs/abs_bert_cnndm.122000.gold')\n",
    "rouge_results_to_str(rouges)"
   ]
  },
  {
   "cell_type": "code",
   "execution_count": 7,
   "metadata": {},
   "outputs": [
    {
     "name": "stdout",
     "output_type": "stream",
     "text": [
      "2530\n",
      "2530\n"
     ]
    },
    {
     "name": "stderr",
     "output_type": "stream",
     "text": [
      "2020-05-24 14:59:25,195 [MainThread  ] [INFO ]  Writing summaries.\n",
      "2020-05-24 14:59:25,196 [MainThread  ] [INFO ]  Processing summaries. Saving system files to ../temp/tmpyr2kdnc4/system and model files to ../temp/tmpyr2kdnc4/model.\n",
      "2020-05-24 14:59:25,197 [MainThread  ] [INFO ]  Processing files in ../temp/rouge-tmp-2020-05-24-14-59-25/candidate/.\n",
      "2020-05-24 14:59:25,404 [MainThread  ] [INFO ]  Saved processed files to ../temp/tmpyr2kdnc4/system.\n",
      "2020-05-24 14:59:25,404 [MainThread  ] [INFO ]  Processing files in ../temp/rouge-tmp-2020-05-24-14-59-25/reference/.\n",
      "2020-05-24 14:59:25,605 [MainThread  ] [INFO ]  Saved processed files to ../temp/tmpyr2kdnc4/model.\n",
      "2020-05-24 14:59:25,626 [MainThread  ] [INFO ]  Written ROUGE configuration to ../temp/tmpr8zfywx2/rouge_conf.xml\n",
      "2020-05-24 14:59:25,627 [MainThread  ] [INFO ]  Running ROUGE with command /data/bqw/ROUGE/RELEASE-1.5.5/ROUGE-1.5.5.pl -e /data/bqw/ROUGE/RELEASE-1.5.5/data -c 95 -m -r 1000 -n 2 -a ../temp/tmpr8zfywx2/rouge_conf.xml\n"
     ]
    },
    {
     "name": "stdout",
     "output_type": "stream",
     "text": [
      "---------------------------------------------\n",
      "1 ROUGE-1 Average_R: 0.41984 (95%-conf.int. 0.41434 - 0.42480)\n",
      "1 ROUGE-1 Average_P: 0.41946 (95%-conf.int. 0.41361 - 0.42502)\n",
      "1 ROUGE-1 Average_F: 0.40578 (95%-conf.int. 0.40104 - 0.41032)\n",
      "---------------------------------------------\n",
      "1 ROUGE-2 Average_R: 0.17984 (95%-conf.int. 0.17474 - 0.18453)\n",
      "1 ROUGE-2 Average_P: 0.18070 (95%-conf.int. 0.17531 - 0.18574)\n",
      "1 ROUGE-2 Average_F: 0.17425 (95%-conf.int. 0.16927 - 0.17874)\n",
      "---------------------------------------------\n",
      "1 ROUGE-L Average_R: 0.38772 (95%-conf.int. 0.38219 - 0.39247)\n",
      "1 ROUGE-L Average_P: 0.38754 (95%-conf.int. 0.38179 - 0.39305)\n",
      "1 ROUGE-L Average_F: 0.37484 (95%-conf.int. 0.37027 - 0.37925)\n",
      "\n"
     ]
    },
    {
     "data": {
      "text/plain": [
       "'>> ROUGE-F(1/2/3/l): 40.58/17.42/37.48\\nROUGE-R(1/2/3/l): 41.98/17.98/38.77\\n'"
      ]
     },
     "execution_count": 7,
     "metadata": {},
     "output_type": "execute_result"
    }
   ],
   "source": [
    "rouges = test_rouge('../temp/', can2_low, gold_low)\n",
    "rouge_results_to_str(rouges)"
   ]
  },
  {
   "cell_type": "code",
   "execution_count": null,
   "metadata": {},
   "outputs": [],
   "source": [
    "low:\n",
    "ROUGE-F(1/2/3/l): \n",
    "42.39/20.36/39.60\n",
    "42.09/20.00/39.28\n",
    "medium:\n",
    "42.02/19.21/39.00\n",
    "41.82/19.11/38.78\n",
    "high:\n",
    "41.19/17.89/38.06\n",
    "40.58/17.42/37.48"
   ]
  },
  {
   "cell_type": "code",
   "execution_count": 7,
   "metadata": {},
   "outputs": [
    {
     "data": {
      "text/plain": [
       "'/data/bqw/GraphEnt_3_21/src'"
      ]
     },
     "execution_count": 7,
     "metadata": {},
     "output_type": "execute_result"
    }
   ],
   "source": [
    "pwd"
   ]
  },
  {
   "cell_type": "code",
   "execution_count": 25,
   "metadata": {},
   "outputs": [],
   "source": [
    "# rouges = test_rouge('../temp/', '/data/bqw/PreSumm_4/logs/val_ent_cnndm.118000.candidate', '/data/bqw/PreSumm_4/logs/val_ent_cnndm.118000.gold')\n",
    "# rouge_results_to_str(rouges)"
   ]
  },
  {
   "cell_type": "code",
   "execution_count": null,
   "metadata": {},
   "outputs": [],
   "source": [
    "import matplotlib.pyplot as plt\n",
    "import matplotlib.ticker as ticker\n",
    "\n",
    "import spacy\n",
    "import numpy as np\n",
    "\n",
    "import random\n",
    "import math\n",
    "import time\n",
    "\n",
    "def display_attention(sentence, translation, attention, n_heads = 8, n_rows = 4, n_cols = 2):\n",
    "    \n",
    "    assert n_rows * n_cols == n_heads\n",
    "    \n",
    "    fig = plt.figure(figsize=(15,25))\n",
    "    \n",
    "    for i in range(n_heads):\n",
    "        \n",
    "        ax = fig.add_subplot(n_rows, n_cols, i+1)\n",
    "        \n",
    "        _attention = attention.squeeze(0)[i].cpu().detach().numpy()\n",
    "\n",
    "        cax = ax.matshow(_attention, cmap='bone')\n",
    "\n",
    "        ax.tick_params(labelsize=12)\n",
    "        ax.set_xticklabels(['']+['<sos>']+[t.lower() for t in sentence]+['<eos>'], \n",
    "                           rotation=45)\n",
    "        ax.set_yticklabels(['']+translation)\n",
    "\n",
    "        ax.xaxis.set_major_locator(ticker.MultipleLocator(1))\n",
    "        ax.yaxis.set_major_locator(ticker.MultipleLocator(1))\n",
    "\n",
    "    plt.show()\n",
    "    plt.close()\n"
   ]
  },
  {
   "cell_type": "code",
   "execution_count": null,
   "metadata": {},
   "outputs": [],
   "source": []
  }
 ],
 "metadata": {
  "kernelspec": {
   "display_name": "Python 3",
   "language": "python",
   "name": "python3"
  },
  "language_info": {
   "codemirror_mode": {
    "name": "ipython",
    "version": 3
   },
   "file_extension": ".py",
   "mimetype": "text/x-python",
   "name": "python",
   "nbconvert_exporter": "python",
   "pygments_lexer": "ipython3",
   "version": "3.7.4"
  }
 },
 "nbformat": 4,
 "nbformat_minor": 4
}
